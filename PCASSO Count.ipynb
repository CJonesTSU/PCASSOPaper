{
 "cells": [
  {
   "cell_type": "code",
   "execution_count": 2,
   "id": "65395c4e",
   "metadata": {},
   "outputs": [],
   "source": [
    "import sys\n",
    "import os"
   ]
  },
  {
   "cell_type": "code",
   "execution_count": 3,
   "id": "5c45ab77",
   "metadata": {},
   "outputs": [],
   "source": [
    "class PDBEntry:\n",
    "    def __init__(self, idx, name, chain):\n",
    "        self.indexNum = idx\n",
    "        self.name = name\n",
    "        self.chain = chain"
   ]
  },
  {
   "cell_type": "code",
   "execution_count": 4,
   "id": "3a670f11",
   "metadata": {},
   "outputs": [],
   "source": [
    "class PCassoAnaylsisPDB:\n",
    "    def __init__ (self, PDBName):\n",
    "        self.PDBName = PDBName\n",
    "        self.AAs = []"
   ]
  },
  {
   "cell_type": "code",
   "execution_count": 5,
   "id": "a39bfc52",
   "metadata": {},
   "outputs": [
    {
     "name": "stdout",
     "output_type": "stream",
     "text": [
      "300\n"
     ]
    }
   ],
   "source": [
    "notebook_path = os.path.abspath(\"PCASSO Count.ipynb\")\n",
    "# PDBList = os.path.join(os.path.dirname(notebook_path), \"DataSet/Set_for_table_X.csv\")\n",
    "PDBList = os.path.join(os.path.dirname(notebook_path), \"DataSet/Test_Set_300.csv\")\n",
    "PDBs = []\n",
    "with open(PDBList) as file:\n",
    "    for item in file:\n",
    "        item = item.rstrip('\\n')\n",
    "        tmp = item.split(',')\n",
    "        obj = PDBEntry(tmp[0], tmp[1],tmp[2])\n",
    "        PDBs.append(obj)\n",
    "print(len(PDBs))"
   ]
  },
  {
   "cell_type": "code",
   "execution_count": 6,
   "id": "cf231c4b",
   "metadata": {},
   "outputs": [
    {
     "name": "stdout",
     "output_type": "stream",
     "text": [
      "67545\n"
     ]
    }
   ],
   "source": [
    "count = 0\n",
    "for pdb in PDBs:\n",
    "    read_path = os.path.join(os.path.dirname(notebook_path),\"PDBFiles\",pdb.name)\n",
    "#     write_path = read_path\n",
    "    read_path = read_path + \"/\" + pdb.name + \".pcasso\"\n",
    "#     write_path += '/' + pdb.name + '.chain.' + pdb.chain + '.csv'\n",
    "#     out_file = open(write_path, 'w')\n",
    "    in_file = open(read_path, 'r')\n",
    "    temp = in_file.readline()\n",
    "\n",
    "    temp = temp.strip()\n",
    "    tempArr = temp.split(' ')\n",
    "    tempArr = tempArr[2:]\n",
    "#     out_file.write(pdb.name + '\\n')\n",
    "    for x in range(0,len(tempArr),2):\n",
    "        first_part = tempArr[x]\n",
    "        second_part = tempArr[x+1]\n",
    "        predicted_SS = second_part\n",
    "        parts = first_part.split(':')\n",
    "        chain_ID = parts[0]\n",
    "        type_loc = parts[1].split('.')\n",
    "        AA_type = type_loc[0][0:3]\n",
    "        location = type_loc[0][3:]\n",
    "#         print(location)\n",
    "        if pdb.chain == chain_ID:\n",
    "            count += 1\n",
    "#     out_file.close()\n",
    "    in_file.close()\n",
    "print(count)"
   ]
  },
  {
   "cell_type": "code",
   "execution_count": null,
   "id": "0f0b735f",
   "metadata": {},
   "outputs": [],
   "source": []
  }
 ],
 "metadata": {
  "kernelspec": {
   "display_name": "Python 3 (ipykernel)",
   "language": "python",
   "name": "python3"
  },
  "language_info": {
   "codemirror_mode": {
    "name": "ipython",
    "version": 3
   },
   "file_extension": ".py",
   "mimetype": "text/x-python",
   "name": "python",
   "nbconvert_exporter": "python",
   "pygments_lexer": "ipython3",
   "version": "3.9.12"
  }
 },
 "nbformat": 4,
 "nbformat_minor": 5
}
